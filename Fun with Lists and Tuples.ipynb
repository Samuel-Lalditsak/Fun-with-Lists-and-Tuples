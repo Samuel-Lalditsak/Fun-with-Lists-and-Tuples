{
 "cells": [
  {
   "cell_type": "code",
   "execution_count": 1,
   "metadata": {},
   "outputs": [
    {
     "name": "stdout",
     "output_type": "stream",
     "text": [
      "[(2, 1), (1, 2), (2, 3), (4, 4), (2, 5)]\n"
     ]
    }
   ],
   "source": [
    "def sort_by_last_element(list_of_tuples):\n",
    "    return sorted(list_of_tuples, key=lambda x: x[-1])\n",
    "\n",
    "list_of_tuples = input(\"Enter a list of tuples, separated by commas: \")\n",
    "\n",
    "list_of_tuples = eval(list_of_tuples)\n",
    "\n",
    "sorted_list_of_tuples = sort_by_last_element(list_of_tuples)\n",
    "\n",
    "print(sorted_list_of_tuples)"
   ]
  }
 ],
 "metadata": {
  "interpreter": {
   "hash": "aee8b7b246df8f9039afb4144a1f6fd8d2ca17a180786b69acc140d282b71a49"
  },
  "kernelspec": {
   "display_name": "Python 3.11.4 64-bit",
   "language": "python",
   "name": "python3"
  },
  "language_info": {
   "codemirror_mode": {
    "name": "ipython",
    "version": 3
   },
   "file_extension": ".py",
   "mimetype": "text/x-python",
   "name": "python",
   "nbconvert_exporter": "python",
   "pygments_lexer": "ipython3",
   "version": "3.11.4"
  },
  "orig_nbformat": 4
 },
 "nbformat": 4,
 "nbformat_minor": 2
}
